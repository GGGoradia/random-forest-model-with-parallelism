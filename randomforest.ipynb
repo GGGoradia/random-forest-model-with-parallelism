{
 "cells": [
  {
   "cell_type": "code",
   "execution_count": 59,
   "metadata": {},
   "outputs": [],
   "source": [
    "import numpy as np\n",
    "import pandas as pd\n",
    "from sklearn.preprocessing import OneHotEncoder\n",
    "from sklearn.model_selection import train_test_split\n",
    "from sklearn.preprocessing import LabelEncoder\n",
    " "
   ]
  },
  {
   "cell_type": "code",
   "execution_count": 60,
   "metadata": {},
   "outputs": [
    {
     "name": "stdout",
     "output_type": "stream",
     "text": [
      "[['Vata' 'Kapha' 'Pitta']]\n"
     ]
    }
   ],
   "source": [
    "df=pd.read_csv('vadu-dummy-data.csv',header=1)\n",
    "df.head()\n",
    "unique=np.array([df['Class'].unique()])\n",
    "print(unique)#found out there are three classes\n",
    "df=df.drop(columns='SampleID')\n"
   ]
  },
  {
   "cell_type": "code",
   "execution_count": 61,
   "metadata": {},
   "outputs": [],
   "source": [
    "#gotta take care of the NA values but here they are listed as NA instead of being np.nan\n",
    "df=df.replace('NA',np.nan)#replaced with actual nan values \n",
    "#had to do this else the labelencoder would encode NA as a value as well"
   ]
  },
  {
   "cell_type": "code",
   "execution_count": 62,
   "metadata": {},
   "outputs": [
    {
     "name": "stdout",
     "output_type": "stream",
     "text": [
      "     Class  GENDER  F1  F2  F3  F4  F5  F6  F7  F8  ...  F123  F124  F125  \\\n",
      "0        2       1   1   2   0   0   2   1   0   1  ...     1     1     1   \n",
      "1        0       1   2   0   0   1   0   1   0   1  ...     1     1     1   \n",
      "2        2       1   1   2   0   3   2   3   1   1  ...     1     1     1   \n",
      "3        2       1   1   2   0   2   2   1   1   1  ...     0     1     1   \n",
      "4        0       1   2   0   0   0   0   0   0   1  ...     1     1     1   \n",
      "..     ...     ...  ..  ..  ..  ..  ..  ..  ..  ..  ...   ...   ...   ...   \n",
      "126      2       0   1   2   1   3   2   1   0   1  ...     0     1     1   \n",
      "127      2       0   1   2   1   3   1   3   0   1  ...     1     1     1   \n",
      "128      2       0   1   2   2   1   2   0   1   1  ...     1     1     1   \n",
      "129      2       0   1   1   1   3   1   3   0   1  ...     1     1     1   \n",
      "130      1       0   0   1   2   3   1   0   0   1  ...     1     1     0   \n",
      "\n",
      "     F126  F127  F128  F129  F130  F131  F132  \n",
      "0       0     1     1     1     1     1     0  \n",
      "1       0     1     1     0     1     0     0  \n",
      "2       1     0     1     1     0     1     1  \n",
      "3       0     0     1     1     1     0     1  \n",
      "4       1     1     1     0     0     0     0  \n",
      "..    ...   ...   ...   ...   ...   ...   ...  \n",
      "126     1     1     1     1     1     0     1  \n",
      "127     1     0     0     0     0     0     0  \n",
      "128     1     1     1     0     0     0     0  \n",
      "129     0     1     0     1     0     0     1  \n",
      "130     0     1     0     1     1     0     0  \n",
      "\n",
      "[131 rows x 134 columns]\n"
     ]
    }
   ],
   "source": [
    "# labelencoding on all since i am using random forest model\n",
    "labels=LabelEncoder()\n",
    "for i in df.columns:\n",
    "    df[i]=labels.fit_transform(df[i])\n",
    "print(df)"
   ]
  },
  {
   "cell_type": "code",
   "execution_count": 63,
   "metadata": {},
   "outputs": [],
   "source": [
    "#replace na values in each row with its mode\n",
    "for i in df.columns:\n",
    "    df[i]=df[i].fillna(df[i].mode()[0])"
   ]
  },
  {
   "cell_type": "code",
   "execution_count": 64,
   "metadata": {},
   "outputs": [],
   "source": [
    "#train test split\n",
    "X=df.drop(columns='Class')\n",
    "y=df['Class']\n",
    "X_train,X_test,y_train,y_test=train_test_split(X,y,test_size=0.2,random_state=42)"
   ]
  },
  {
   "cell_type": "code",
   "execution_count": null,
   "metadata": {},
   "outputs": [],
   "source": []
  }
 ],
 "metadata": {
  "kernelspec": {
   "display_name": "Python 3",
   "language": "python",
   "name": "python3"
  },
  "language_info": {
   "codemirror_mode": {
    "name": "ipython",
    "version": 3
   },
   "file_extension": ".py",
   "mimetype": "text/x-python",
   "name": "python",
   "nbconvert_exporter": "python",
   "pygments_lexer": "ipython3",
   "version": "3.12.4"
  }
 },
 "nbformat": 4,
 "nbformat_minor": 2
}

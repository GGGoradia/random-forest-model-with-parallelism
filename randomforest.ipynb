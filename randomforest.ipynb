{
 "cells": [
  {
   "cell_type": "code",
   "execution_count": 2,
   "metadata": {},
   "outputs": [],
   "source": [
    "import numpy as np\n",
    "import pandas as pd\n",
    "from sklearn.preprocessing import OneHotEncoder\n",
    "from sklearn.model_selection import train_test_split\n",
    "from sklearn.preprocessing import LabelEncoder\n",
    "from sklearn.ensemble import RandomForestClassifier\n",
    "from sklearn.metrics import accuracy_score"
   ]
  },
  {
   "cell_type": "code",
   "execution_count": 3,
   "metadata": {},
   "outputs": [
    {
     "name": "stdout",
     "output_type": "stream",
     "text": [
      "[['Vata' 'Kapha' 'Pitta']]\n"
     ]
    }
   ],
   "source": [
    "df=pd.read_csv('vadu-dummy-data.csv',header=1)\n",
    "df.head()\n",
    "unique=np.array([df['Class'].unique()])\n",
    "print(unique)#found out there are three classes\n",
    "df=df.drop(columns='SampleID')\n"
   ]
  },
  {
   "cell_type": "code",
   "execution_count": 4,
   "metadata": {},
   "outputs": [],
   "source": [
    "df=df.replace('NA',np.nan)#replaced with actual nan values \n",
    "#had to do this else the labelencoder would encode NA as a value as well"
   ]
  },
  {
   "cell_type": "code",
   "execution_count": 5,
   "metadata": {},
   "outputs": [
    {
     "name": "stdout",
     "output_type": "stream",
     "text": [
      "     Class  GENDER  F1  F2  F3  F4  ...  F127  F128  F129  F130  F131  F132\n",
      "0        2       1   1   2   0   0  ...     1     1     1     1     1     0\n",
      "1        0       1   2   0   0   1  ...     1     1     0     1     0     0\n",
      "2        2       1   1   2   0   3  ...     0     1     1     0     1     1\n",
      "3        2       1   1   2   0   2  ...     0     1     1     1     0     1\n",
      "4        0       1   2   0   0   0  ...     1     1     0     0     0     0\n",
      "..     ...     ...  ..  ..  ..  ..  ...   ...   ...   ...   ...   ...   ...\n",
      "126      2       0   1   2   1   3  ...     1     1     1     1     0     1\n",
      "127      2       0   1   2   1   3  ...     0     0     0     0     0     0\n",
      "128      2       0   1   2   2   1  ...     1     1     0     0     0     0\n",
      "129      2       0   1   1   1   3  ...     1     0     1     0     0     1\n",
      "130      1       0   0   1   2   3  ...     1     0     1     1     0     0\n",
      "\n",
      "[131 rows x 134 columns]\n"
     ]
    }
   ],
   "source": [
    "# labelencoding on all since i am using random forest model\n",
    "labels=LabelEncoder()\n",
    "for i in df.columns:\n",
    "    df[i]=labels.fit_transform(df[i])\n",
    "print(df)"
   ]
  },
  {
   "cell_type": "code",
   "execution_count": 6,
   "metadata": {},
   "outputs": [],
   "source": [
    "#replace na values in each row with its mode\n",
    "for i in df.columns:\n",
    "    df[i]=df[i].fillna(df[i].mode()[0])"
   ]
  },
  {
   "cell_type": "code",
   "execution_count": 7,
   "metadata": {},
   "outputs": [],
   "source": [
    "#train test split\n",
    "X=df.drop(columns='Class')\n",
    "y=df['Class']\n",
    "X_train,X_test,y_train,y_test=train_test_split(X,y,test_size=0.2,random_state=42)"
   ]
  },
  {
   "cell_type": "code",
   "execution_count": 8,
   "metadata": {},
   "outputs": [
    {
     "name": "stdout",
     "output_type": "stream",
     "text": [
      "[['Vata' 'Kapha' 'Pitta']]\n",
      "[2 1 1 0 2 2 0 2 2 1 2 2 1 0 2 0 0 2 1 0 0 1 2 0 2 2 2]\n",
      "for normal model\n",
      "0.08999919891357422\n"
     ]
    }
   ],
   "source": [
    "import time\n",
    "model_normal=RandomForestClassifier(n_estimators=100,random_state=42)\n",
    "\n",
    "#added to check time taken to train the model\n",
    "starttime=time.time()\n",
    "model_normal.fit(X_train,y_train)\n",
    "endtime=time.time()\n",
    "\n",
    "pred=model_normal.predict(X_test)\n",
    "print(unique)\n",
    "print(pred)\n",
    "print('for normal model')\n",
    "print(endtime-starttime)"
   ]
  },
  {
   "cell_type": "code",
   "execution_count": 9,
   "metadata": {},
   "outputs": [
    {
     "name": "stdout",
     "output_type": "stream",
     "text": [
      "0.9259259259259259\n"
     ]
    }
   ],
   "source": [
    "acc=accuracy_score(y_test,pred)\n",
    "print(acc)"
   ]
  },
  {
   "cell_type": "code",
   "execution_count": 10,
   "metadata": {},
   "outputs": [
    {
     "name": "stdout",
     "output_type": "stream",
     "text": [
      "[2 1 1 0 2 2 0 2 2 1 2 2 1 0 2 0 0 2 1 0 0 1 2 0 2 2 2]\n"
     ]
    }
   ],
   "source": [
    "y_pred=model_normal.predict(X_test)\n",
    "print(y_pred)"
   ]
  },
  {
   "cell_type": "code",
   "execution_count": 11,
   "metadata": {},
   "outputs": [
    {
     "name": "stdout",
     "output_type": "stream",
     "text": [
      "[['Vata' 'Kapha' 'Pitta']]\n",
      "[2 1 1 0 2 2 0 2 2 1 2 2 1 0 2 0 0 2 1 0 0 1 2 0 2 2 2]\n",
      "for parallel model\n",
      "0.13226723670959473\n"
     ]
    }
   ],
   "source": [
    "#creating a model which uses parallel execution using all the CPU cores\n",
    "model_para=RandomForestClassifier(n_estimators=100,random_state=42,n_jobs=2)\n",
    "#-1 to use all cores of the cpu\n",
    "\n",
    "#to check the time taken\n",
    "start=time.time()\n",
    "model_para.fit(X_train,y_train)\n",
    "end=time.time()\n",
    "\n",
    "para_pred=model_para.predict(X_test)\n",
    "print(unique)\n",
    "print(para_pred)\n",
    "print(\"for parallel model\")\n",
    "print(end-start)"
   ]
  },
  {
   "cell_type": "code",
   "execution_count": 12,
   "metadata": {},
   "outputs": [
    {
     "data": {
      "text/plain": [
       "<sklearn.metrics._plot.confusion_matrix.ConfusionMatrixDisplay at 0x1b9f6ec3d70>"
      ]
     },
     "execution_count": 12,
     "metadata": {},
     "output_type": "execute_result"
    },
    {
     "data": {
      "image/png": "[encoded data removed]",
      "text/plain": [
       "<Figure size 640x480 with 2 Axes>"
      ]
     },
     "metadata": {},
     "output_type": "display_data"
    }
   ],
   "source": [
    "from sklearn.metrics import confusion_matrix,ConfusionMatrixDisplay\n",
    "cm=confusion_matrix(y_test,y_pred)\n",
    "disp=ConfusionMatrixDisplay(confusion_matrix=cm)\n",
    "disp.plot(cmap='Blues',values_format='d')\n",
    "\n",
    " "
   ]
  },
  {
   "cell_type": "code",
   "execution_count": 29,
   "metadata": {},
   "outputs": [
    {
     "name": "stdout",
     "output_type": "stream",
     "text": [
      "[2 1 1 0 2 2 0 2 2 1 2 2 1 0 2 1 0 2 1 0 0 0 2 0 2 2 2]\n",
      "0.9259259259259259\n"
     ]
    }
   ],
   "source": [
    "#logistic regression model\n",
    "from sklearn.linear_model import LogisticRegression\n",
    "model1=LogisticRegression()\n",
    "model1.fit(X_train,y_train)\n",
    "y_pred1=model1.predict(X_test)\n",
    "print(y_pred)\n",
    "acc2=accuracy_score(y_test,y_pred1)\n",
    "print(acc2)"
   ]
  },
  {
   "cell_type": "code",
   "execution_count": 30,
   "metadata": {},
   "outputs": [
    {
     "name": "stdout",
     "output_type": "stream",
     "text": [
      "0.8888888888888888\n"
     ]
    }
   ],
   "source": [
    "#Support vector machine\n",
    "from sklearn.svm import SVC\n",
    "model2=SVC(kernel='rbf',C=1,gamma='auto')\n",
    "model2.fit(X_train,y_train)\n",
    "y_pred2=model2.predict(X_test)\n",
    "acc3=accuracy_score(y_test,y_pred2)\n",
    "print(acc3)"
   ]
  },
  {
   "cell_type": "code",
   "execution_count": null,
   "metadata": {},
   "outputs": [
    {
     "name": "stdout",
     "output_type": "stream",
     "text": [
      "0.8888888888888888\n"
     ]
    }
   ],
   "source": [
    "#kNN\n",
    "from sklearn.neighbors import KNeighborsClassifier\n",
    "model3=KNeighborsClassifier(n_neighbors=12)\n",
    "model3.fit(X_train,y_train)\n",
    "y_pred3=model3.predict(X_test)\n",
    "acc4=accuracy_score(y_test,y_pred3)\n",
    "print(acc4)"
   ]
  },
  {
   "cell_type": "code",
   "execution_count": 32,
   "metadata": {},
   "outputs": [
    {
     "name": "stdout",
     "output_type": "stream",
     "text": [
      "0.8888888888888888\n"
     ]
    }
   ],
   "source": [
    "from sklearn.neural_network import MLPClassifier\n",
    "model4=MLPClassifier(hidden_layer_sizes=(100,50),max_iter=500,random_state=42)\n",
    "model4.fit(X_train,y_train)\n",
    "y_pred4=model4.predict(X_test)\n",
    "acc5=accuracy_score(y_test,y_pred4)\n",
    "print(acc5)\n"
   ]
  },
  {
   "cell_type": "code",
   "execution_count": null,
   "metadata": {},
   "outputs": [],
   "source": []
  }
 ],
 "metadata": {
  "kernelspec": {
   "display_name": "Python 3",
   "language": "python",
   "name": "python3"
  },
  "language_info": {
   "codemirror_mode": {
    "name": "ipython",
    "version": 3
   },
   "file_extension": ".py",
   "mimetype": "text/x-python",
   "name": "python",
   "nbconvert_exporter": "python",
   "pygments_lexer": "ipython3",
   "version": "3.12.4"
  }
 },
 "nbformat": 4,
 "nbformat_minor": 2
}

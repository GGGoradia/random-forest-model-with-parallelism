{
 "cells": [
  {
   "cell_type": "code",
   "execution_count": 1,
   "metadata": {},
   "outputs": [],
   "source": [
    "import numpy as np\n",
    "import pandas as pd\n",
    "from sklearn.preprocessing import OneHotEncoder\n",
    "from sklearn.model_selection import train_test_split\n",
    "from sklearn.preprocessing import LabelEncoder\n",
    "from sklearn.ensemble import RandomForestClassifier\n",
    "from sklearn.metrics import accuracy_score"
   ]
  },
  {
   "cell_type": "code",
   "execution_count": 2,
   "metadata": {},
   "outputs": [
    {
     "name": "stdout",
     "output_type": "stream",
     "text": [
      "[['Vata' 'Kapha' 'Pitta']]\n"
     ]
    }
   ],
   "source": [
    "df=pd.read_csv('vadu-dummy-data.csv',header=1)\n",
    "df.head()\n",
    "unique=np.array([df['Class'].unique()])\n",
    "print(unique)#found out there are three classes\n",
    "df=df.drop(columns='SampleID')\n"
   ]
  },
  {
   "cell_type": "code",
   "execution_count": 3,
   "metadata": {},
   "outputs": [],
   "source": [
    "df=df.replace('NA',np.nan)#replaced with actual nan values \n",
    "#had to do this else the labelencoder would encode NA as a value as well"
   ]
  },
  {
   "cell_type": "code",
   "execution_count": 4,
   "metadata": {},
   "outputs": [
    {
     "name": "stdout",
     "output_type": "stream",
     "text": [
      "     Class  GENDER  F1  F2  F3  F4  ...  F127  F128  F129  F130  F131  F132\n",
      "0        2       1   1   2   0   0  ...     1     1     1     1     1     0\n",
      "1        0       1   2   0   0   1  ...     1     1     0     1     0     0\n",
      "2        2       1   1   2   0   3  ...     0     1     1     0     1     1\n",
      "3        2       1   1   2   0   2  ...     0     1     1     1     0     1\n",
      "4        0       1   2   0   0   0  ...     1     1     0     0     0     0\n",
      "..     ...     ...  ..  ..  ..  ..  ...   ...   ...   ...   ...   ...   ...\n",
      "126      2       0   1   2   1   3  ...     1     1     1     1     0     1\n",
      "127      2       0   1   2   1   3  ...     0     0     0     0     0     0\n",
      "128      2       0   1   2   2   1  ...     1     1     0     0     0     0\n",
      "129      2       0   1   1   1   3  ...     1     0     1     0     0     1\n",
      "130      1       0   0   1   2   3  ...     1     0     1     1     0     0\n",
      "\n",
      "[131 rows x 134 columns]\n"
     ]
    }
   ],
   "source": [
    "# labelencoding on all since i am using random forest model\n",
    "labels=LabelEncoder()\n",
    "for i in df.columns:\n",
    "    df[i]=labels.fit_transform(df[i])\n",
    "print(df)"
   ]
  },
  {
   "cell_type": "code",
   "execution_count": 5,
   "metadata": {},
   "outputs": [],
   "source": [
    "#replace na values in each row with its mode\n",
    "for i in df.columns:\n",
    "    df[i]=df[i].fillna(df[i].mode()[0])"
   ]
  },
  {
   "cell_type": "code",
   "execution_count": 6,
   "metadata": {},
   "outputs": [],
   "source": [
    "#train test split\n",
    "X=df.drop(columns='Class')\n",
    "y=df['Class']\n",
    "X_train,X_test,y_train,y_test=train_test_split(X,y,test_size=0.2,random_state=42)"
   ]
  },
  {
   "cell_type": "code",
   "execution_count": 7,
   "metadata": {},
   "outputs": [
    {
     "name": "stdout",
     "output_type": "stream",
     "text": [
      "[['Vata' 'Kapha' 'Pitta']]\n",
      "[2 1 1 0 2 2 0 2 2 1 2 2 1 0 2 0 0 2 1 0 0 1 2 0 2 2 2]\n",
      "for normal model\n",
      "0.22903037071228027\n"
     ]
    }
   ],
   "source": [
    "import time\n",
    "model_normal=RandomForestClassifier(n_estimators=100,random_state=42)\n",
    "\n",
    "#added to check time taken to train the model\n",
    "starttime=time.time()\n",
    "model_normal.fit(X_train,y_train)\n",
    "endtime=time.time()\n",
    "\n",
    "pred=model_normal.predict(X_test)\n",
    "print(unique)\n",
    "print(pred)\n",
    "print('for normal model')\n",
    "print(endtime-starttime)"
   ]
  },
  {
   "cell_type": "code",
   "execution_count": 8,
   "metadata": {},
   "outputs": [
    {
     "name": "stdout",
     "output_type": "stream",
     "text": [
      "0.9259259259259259\n",
      "0.8836206896551724\n",
      "0.9259259259259259\n"
     ]
    }
   ],
   "source": [
    "from sklearn.metrics import r2_score,precision_score,recall_score,f1_score,confusion_matrix\n",
    "acc=accuracy_score(y_test,pred)\n",
    "r21=r2_score(y_test,pred)\n",
    "p1=precision_score(y_test,pred,average='micro')\n",
    "print(acc)\n",
    "print(r21)\n",
    "print(p1)\n"
   ]
  },
  {
   "cell_type": "code",
   "execution_count": 9,
   "metadata": {},
   "outputs": [
    {
     "name": "stdout",
     "output_type": "stream",
     "text": [
      "[2 1 1 0 2 2 0 2 2 1 2 2 1 0 2 0 0 2 1 0 0 1 2 0 2 2 2]\n"
     ]
    }
   ],
   "source": [
    "y_pred=model_normal.predict(X_test)\n",
    "print(y_pred)"
   ]
  },
  {
   "cell_type": "code",
   "execution_count": 10,
   "metadata": {},
   "outputs": [
    {
     "name": "stdout",
     "output_type": "stream",
     "text": [
      "[['Vata' 'Kapha' 'Pitta']]\n",
      "[2 1 1 0 2 2 0 2 2 1 2 2 1 0 2 0 0 2 1 0 0 1 2 0 2 2 2]\n",
      "for parallel model\n",
      "0.31563758850097656\n"
     ]
    }
   ],
   "source": [
    "#creating a model which uses parallel execution using all the CPU cores\n",
    "model_para=RandomForestClassifier(n_estimators=100,random_state=42,n_jobs=2)\n",
    "#-1 to use all cores of the cpu\n",
    "\n",
    "#to check the time taken\n",
    "start=time.time()\n",
    "model_para.fit(X_train,y_train)\n",
    "end=time.time()\n",
    "\n",
    "para_pred=model_para.predict(X_test)\n",
    "print(unique)\n",
    "print(para_pred)\n",
    "print(\"for parallel model\")\n",
    "print(end-start)"
   ]
  },
  {
   "cell_type": "code",
   "execution_count": 11,
   "metadata": {},
   "outputs": [
    {
     "data": {
      "text/plain": [
       "<sklearn.metrics._plot.confusion_matrix.ConfusionMatrixDisplay at 0x1fe6b53ab70>"
      ]
     },
     "execution_count": 11,
     "metadata": {},
     "output_type": "execute_result"
    },
    {
     "data": {
      "image/png": "[encoded data removed]",
      "text/plain": [
       "<Figure size 640x480 with 2 Axes>"
      ]
     },
     "metadata": {},
     "output_type": "display_data"
    }
   ],
   "source": [
    "from sklearn.metrics import confusion_matrix,ConfusionMatrixDisplay\n",
    "cm1=confusion_matrix(y_test,y_pred)\n",
    "disp=ConfusionMatrixDisplay(confusion_matrix=cm1)\n",
    "disp.plot(cmap='Blues',values_format='d')\n",
    "\n",
    " "
   ]
  },
  {
   "cell_type": "code",
   "execution_count": 12,
   "metadata": {},
   "outputs": [
    {
     "name": "stdout",
     "output_type": "stream",
     "text": [
      "[2 1 1 0 2 2 0 2 2 1 2 2 1 0 2 1 0 2 1 0 0 0 2 0 2 2 2]\n",
      "0.9259259259259259\n",
      "0.8836206896551724\n"
     ]
    }
   ],
   "source": [
    "#logistic regression model\n",
    "from sklearn.linear_model import LogisticRegression\n",
    "model1=LogisticRegression()\n",
    "model1.fit(X_train,y_train)\n",
    "y_pred1=model1.predict(X_test)\n",
    "print(y_pred1)\n",
    "acc2=accuracy_score(y_test,y_pred1)\n",
    "r22=r2_score(y_test,y_pred1)\n",
    "p2=precision_score(y_test,y_pred1,average='micro')\n",
    "print(acc2)\n",
    "print(r22)\n"
   ]
  },
  {
   "cell_type": "code",
   "execution_count": 13,
   "metadata": {},
   "outputs": [
    {
     "name": "stdout",
     "output_type": "stream",
     "text": [
      "0.8888888888888888\n",
      "0.8254310344827587\n",
      "0.8888888888888888\n"
     ]
    }
   ],
   "source": [
    "#Support vector machine\n",
    "from sklearn.svm import SVC\n",
    "model2=SVC(kernel='rbf',C=1,gamma='auto')\n",
    "model2.fit(X_train,y_train)\n",
    "y_pred2=model2.predict(X_test)\n",
    "acc3=accuracy_score(y_test,y_pred2)\n",
    "r23=r2_score(y_test,y_pred2)\n",
    "p3=precision_score(y_test,y_pred2,average='micro')\n",
    "print(acc3)\n",
    "print(r23)\n",
    "print(p3)\n"
   ]
  },
  {
   "cell_type": "code",
   "execution_count": 14,
   "metadata": {},
   "outputs": [
    {
     "name": "stdout",
     "output_type": "stream",
     "text": [
      "0.8888888888888888\n",
      "0.8254310344827587\n"
     ]
    }
   ],
   "source": [
    "#kNN\n",
    "from sklearn.neighbors import KNeighborsClassifier\n",
    "model3=KNeighborsClassifier(n_neighbors=12)\n",
    "model3.fit(X_train,y_train)\n",
    "y_pred3=model3.predict(X_test)\n",
    "acc4=accuracy_score(y_test,y_pred3)\n",
    "r24=r2_score(y_test,y_pred3)\n",
    "print(acc4)\n",
    "print(r24)"
   ]
  },
  {
   "cell_type": "code",
   "execution_count": 15,
   "metadata": {},
   "outputs": [
    {
     "name": "stdout",
     "output_type": "stream",
     "text": [
      "0.8888888888888888\n",
      "0.8254310344827587\n",
      "0.8888888888888888\n"
     ]
    }
   ],
   "source": [
    "#multilayered perceptron\n",
    "from sklearn.neural_network import MLPClassifier\n",
    "\n",
    "model4=MLPClassifier(hidden_layer_sizes=(100,50),max_iter=500,random_state=42)\n",
    "model4.fit(X_train,y_train)\n",
    "y_pred4=model4.predict(X_test)\n",
    "acc5=accuracy_score(y_test,y_pred4)\n",
    "print(acc5)\n",
    "r25=r2_score(y_test,y_pred4)\n",
    "print(r25)\n",
    "p4=precision_score(y_test,y_pred4,average='micro')\n",
    "print(p4)\n"
   ]
  },
  {
   "cell_type": "code",
   "execution_count": 16,
   "metadata": {},
   "outputs": [
    {
     "data": {
      "text/plain": [
       "<matplotlib.legend.Legend at 0x1fe6c64c3e0>"
      ]
     },
     "execution_count": 16,
     "metadata": {},
     "output_type": "execute_result"
    },
    {
     "data": {
      "image/png": "[encoded data removed]",
      "text/plain": [
       "<Figure size 800x600 with 1 Axes>"
      ]
     },
     "metadata": {},
     "output_type": "display_data"
    }
   ],
   "source": [
    "import matplotlib.pyplot as plt\n",
    "plt.figure(figsize=(8,6))\n",
    "accuracies = [acc,acc2,acc3,acc4,acc5]\n",
    "models = [\"Random Forest\", \"Logistic Regression\", \"SVM\", \"KNN\", \"MLP\"]\n",
    "r2scores=[r21,r22,r23,r24,r25]\n",
    "plt.bar(models,accuracies,color='blue',label='accuracy',width=0.5)\n",
    "plt.bar(models,r2scores,color='red',label='r2 scores',width=0.4)\n",
    "plt.legend(loc='best')"
   ]
  },
  {
   "cell_type": "code",
   "execution_count": 17,
   "metadata": {},
   "outputs": [
    {
     "data": {
      "text/html": [
       "<div>\n",
       "<style scoped>\n",
       "    .dataframe tbody tr th:only-of-type {\n",
       "        vertical-align: middle;\n",
       "    }\n",
       "\n",
       "    .dataframe tbody tr th {\n",
       "        vertical-align: top;\n",
       "    }\n",
       "\n",
       "    .dataframe thead th {\n",
       "        text-align: right;\n",
       "    }\n",
       "</style>\n",
       "<table border=\"1\" class=\"dataframe\">\n",
       "  <thead>\n",
       "    <tr style=\"text-align: right;\">\n",
       "      <th></th>\n",
       "      <th>Model</th>\n",
       "      <th>Accuracy</th>\n",
       "      <th>Precision (Macro)</th>\n",
       "      <th>R² Score</th>\n",
       "    </tr>\n",
       "  </thead>\n",
       "  <tbody>\n",
       "    <tr>\n",
       "      <th>0</th>\n",
       "      <td>Random Forest</td>\n",
       "      <td>0.926</td>\n",
       "      <td>0.917</td>\n",
       "      <td>0.884</td>\n",
       "    </tr>\n",
       "    <tr>\n",
       "      <th>1</th>\n",
       "      <td>Logistic Regression</td>\n",
       "      <td>0.926</td>\n",
       "      <td>0.917</td>\n",
       "      <td>0.884</td>\n",
       "    </tr>\n",
       "    <tr>\n",
       "      <th>2</th>\n",
       "      <td>SVM</td>\n",
       "      <td>0.889</td>\n",
       "      <td>0.893</td>\n",
       "      <td>0.825</td>\n",
       "    </tr>\n",
       "    <tr>\n",
       "      <th>3</th>\n",
       "      <td>KNN</td>\n",
       "      <td>0.889</td>\n",
       "      <td>0.869</td>\n",
       "      <td>0.825</td>\n",
       "    </tr>\n",
       "    <tr>\n",
       "      <th>4</th>\n",
       "      <td>MLP</td>\n",
       "      <td>0.889</td>\n",
       "      <td>0.908</td>\n",
       "      <td>0.825</td>\n",
       "    </tr>\n",
       "  </tbody>\n",
       "</table>\n",
       "</div>"
      ],
      "text/plain": [
       "                 Model  Accuracy  Precision (Macro)  R² Score\n",
       "0        Random Forest     0.926              0.917     0.884\n",
       "1  Logistic Regression     0.926              0.917     0.884\n",
       "2                  SVM     0.889              0.893     0.825\n",
       "3                  KNN     0.889              0.869     0.825\n",
       "4                  MLP     0.889              0.908     0.825"
      ]
     },
     "metadata": {},
     "output_type": "display_data"
    }
   ],
   "source": [
    "import pandas as pd\n",
    "from sklearn.metrics import accuracy_score, precision_score, r2_score\n",
    "\n",
    "# Sample model predictions (replace with your real ones)\n",
    "# y_test = actual labels\n",
    "# pred_rf, pred_lr, pred_svm, pred_mlp, pred_rnn = predictions from each model\n",
    "\n",
    "# Compute metrics for each model\n",
    "metrics_data = {\n",
    "    'Model': ['Random Forest', 'Logistic Regression', 'SVM', 'KNN', 'MLP'],\n",
    "    'Accuracy': [\n",
    "        accuracy_score(y_test, y_pred),\n",
    "        accuracy_score(y_test, y_pred1),\n",
    "        accuracy_score(y_test, y_pred2),\n",
    "        accuracy_score(y_test, y_pred3),\n",
    "        accuracy_score(y_test, y_pred4)\n",
    "    ],\n",
    "    'Precision (Macro)': [\n",
    "        precision_score(y_test, y_pred, average='macro'),\n",
    "        precision_score(y_test, y_pred1, average='macro'),\n",
    "        precision_score(y_test, y_pred2, average='macro'),\n",
    "        precision_score(y_test, y_pred3, average='macro'),\n",
    "        precision_score(y_test, y_pred4, average='macro')\n",
    "    ],\n",
    "    'R² Score': [\n",
    "        r2_score(y_test, y_pred),\n",
    "        r2_score(y_test, y_pred1),\n",
    "        r2_score(y_test, y_pred2),\n",
    "        r2_score(y_test, y_pred3),\n",
    "        r2_score(y_test, y_pred4)\n",
    "    ]\n",
    "}\n",
    "\n",
    "# Create the DataFrame\n",
    "metrics_df = pd.DataFrame(metrics_data)\n",
    "\n",
    "# Display the table\n",
    "display(metrics_df.round(3))\n"
   ]
  },
  {
   "cell_type": "code",
   "execution_count": 18,
   "metadata": {},
   "outputs": [
    {
     "data": {
      "image/png": "[encoded data removed]",
      "text/plain": [
       "<Figure size 1000x600 with 1 Axes>"
      ]
     },
     "metadata": {},
     "output_type": "display_data"
    }
   ],
   "source": [
    "import matplotlib.pyplot as plt\n",
    "import numpy as np\n",
    "\n",
    "# Data from your table\n",
    "models = ['Random Forest', 'Logistic Regression', 'SVM', 'KNN', 'MLP']\n",
    "accuracy = [0.926, 0.926, 0.889, 0.889, 0.889]\n",
    "r2_scores = [0.884, 0.884, 0.825, 0.825, 0.825]\n",
    "precision = [0.917, 0.917, 0.893, 0.869, 0.908]\n",
    "\n",
    "x = np.arange(len(models))  # the label locations\n",
    "width = 0.25  # width of the bars\n",
    "\n",
    "fig, ax = plt.subplots(figsize=(10, 6))\n",
    "bar1 = ax.bar(x - width, accuracy, width, label='Accuracy', color='blue')\n",
    "bar2 = ax.bar(x, r2_scores, width, label='R² Score', color='red')\n",
    "bar3 = ax.bar(x + width, precision, width, label='Precision (Macro)', color='green')\n",
    "\n",
    "# Labels and formatting\n",
    "ax.set_xlabel('Model')\n",
    "ax.set_ylabel('Score')\n",
    "ax.set_title('Model Performance Comparison')\n",
    "ax.set_xticks(x)\n",
    "ax.set_xticklabels(models, rotation=15)\n",
    "ax.set_ylim(0.8, 1.0)\n",
    "ax.legend()\n",
    "ax.grid(axis='y', linestyle='--', alpha=0.7)\n",
    "\n",
    "plt.tight_layout()\n",
    "plt.show()\n"
   ]
  },
  {
   "cell_type": "code",
   "execution_count": null,
   "metadata": {},
   "outputs": [
    {
     "name": "stdout",
     "output_type": "stream",
     "text": [
      "68\n"
     ]
    }
   ],
   "source": [
    "#applying PCA\n",
    "from sklearn.decomposition import PCA\n",
    "from sklearn.preprocessing import StandardScaler\n",
    "scaler=StandardScaler()\n",
    "X_scaled=scaler.fit_transform(X)\n",
    "pca=PCA(n_components=0.94)\n",
    "X_pca=pca.fit_transform(X_scaled)\n",
    "print(pca.n_components_)\n",
    "#components are reduced now we train a new model"
   ]
  },
  {
   "cell_type": "code",
   "execution_count": 29,
   "metadata": {},
   "outputs": [
    {
     "name": "stdout",
     "output_type": "stream",
     "text": [
      "accuracy after PCA to reduce components: 0.8888888888888888\n"
     ]
    }
   ],
   "source": [
    "model_pca=RandomForestClassifier(n_estimators=100,random_state=42)\n",
    "Xpcatrain,Xpcatest,ytrain,ytest=train_test_split(X_pca,y,test_size=0.2,random_state=42)\n",
    "model_pca.fit(Xpcatrain,ytrain)\n",
    "pcapred=model_pca.predict(Xpcatest)\n",
    "accpca=accuracy_score(pcapred,ytest)\n",
    "print(\"accuracy after PCA to reduce components:\",accpca)"
   ]
  },
  {
   "cell_type": "code",
   "execution_count": null,
   "metadata": {},
   "outputs": [],
   "source": []
  }
 ],
 "metadata": {
  "kernelspec": {
   "display_name": "Python 3",
   "language": "python",
   "name": "python3"
  },
  "language_info": {
   "codemirror_mode": {
    "name": "ipython",
    "version": 3
   },
   "file_extension": ".py",
   "mimetype": "text/x-python",
   "name": "python",
   "nbconvert_exporter": "python",
   "pygments_lexer": "ipython3",
   "version": "3.12.4"
  }
 },
 "nbformat": 4,
 "nbformat_minor": 2
}

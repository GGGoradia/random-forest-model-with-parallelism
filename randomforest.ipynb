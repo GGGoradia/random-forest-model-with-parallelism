{
 "cells": [
  {
   "cell_type": "code",
   "execution_count": 1,
   "metadata": {},
   "outputs": [],
   "source": [
    "import numpy as np\n",
    "import pandas as pd\n",
    "from sklearn.preprocessing import OneHotEncoder\n",
    "from sklearn.model_selection import train_test_split\n",
    "from sklearn.preprocessing import LabelEncoder\n",
    "from sklearn.ensemble import RandomForestClassifier"
   ]
  },
  {
   "cell_type": "code",
   "execution_count": 2,
   "metadata": {},
   "outputs": [
    {
     "name": "stdout",
     "output_type": "stream",
     "text": [
      "[['Vata' 'Kapha' 'Pitta']]\n"
     ]
    }
   ],
   "source": [
    "df=pd.read_csv('vadu-dummy-data.csv',header=1)\n",
    "df.head()\n",
    "unique=np.array([df['Class'].unique()])\n",
    "print(unique)#found out there are three classes\n",
    "df=df.drop(columns='SampleID')\n"
   ]
  },
  {
   "cell_type": "code",
   "execution_count": 3,
   "metadata": {},
   "outputs": [],
   "source": [
    "df=df.replace('NA',np.nan)#replaced with actual nan values \n",
    "#had to do this else the labelencoder would encode NA as a value as well"
   ]
  },
  {
   "cell_type": "code",
   "execution_count": 4,
   "metadata": {},
   "outputs": [
    {
     "name": "stdout",
     "output_type": "stream",
     "text": [
      "     Class  GENDER  F1  F2  F3  F4  ...  F127  F128  F129  F130  F131  F132\n",
      "0        2       1   1   2   0   0  ...     1     1     1     1     1     0\n",
      "1        0       1   2   0   0   1  ...     1     1     0     1     0     0\n",
      "2        2       1   1   2   0   3  ...     0     1     1     0     1     1\n",
      "3        2       1   1   2   0   2  ...     0     1     1     1     0     1\n",
      "4        0       1   2   0   0   0  ...     1     1     0     0     0     0\n",
      "..     ...     ...  ..  ..  ..  ..  ...   ...   ...   ...   ...   ...   ...\n",
      "126      2       0   1   2   1   3  ...     1     1     1     1     0     1\n",
      "127      2       0   1   2   1   3  ...     0     0     0     0     0     0\n",
      "128      2       0   1   2   2   1  ...     1     1     0     0     0     0\n",
      "129      2       0   1   1   1   3  ...     1     0     1     0     0     1\n",
      "130      1       0   0   1   2   3  ...     1     0     1     1     0     0\n",
      "\n",
      "[131 rows x 134 columns]\n"
     ]
    }
   ],
   "source": [
    "# labelencoding on all since i am using random forest model\n",
    "labels=LabelEncoder()\n",
    "for i in df.columns:\n",
    "    df[i]=labels.fit_transform(df[i])\n",
    "print(df)"
   ]
  },
  {
   "cell_type": "code",
   "execution_count": 5,
   "metadata": {},
   "outputs": [],
   "source": [
    "#replace na values in each row with its mode\n",
    "for i in df.columns:\n",
    "    df[i]=df[i].fillna(df[i].mode()[0])"
   ]
  },
  {
   "cell_type": "code",
   "execution_count": 6,
   "metadata": {},
   "outputs": [],
   "source": [
    "#train test split\n",
    "X=df.drop(columns='Class')\n",
    "y=df['Class']\n",
    "X_train,X_test,y_train,y_test=train_test_split(X,y,test_size=0.2,random_state=42)"
   ]
  },
  {
   "cell_type": "code",
   "execution_count": 11,
   "metadata": {},
   "outputs": [],
   "source": [
    "model_normal=RandomForestClassifier(n_estimators=100,random_state=42)\n",
    "model_normal.fit(X_train,y_train)\n",
    "pred=model_normal.predict(X_test)"
   ]
  },
  {
   "cell_type": "code",
   "execution_count": 12,
   "metadata": {},
   "outputs": [
    {
     "name": "stdout",
     "output_type": "stream",
     "text": [
      "55     2\n",
      "40     1\n",
      "19     1\n",
      "31     0\n",
      "115    2\n",
      "56     2\n",
      "69     0\n",
      "105    2\n",
      "81     2\n",
      "26     1\n",
      "95     2\n",
      "27     2\n",
      "64     1\n",
      "4      0\n",
      "97     2\n",
      "100    1\n",
      "36     0\n",
      "80     2\n",
      "93     1\n",
      "84     1\n",
      "18     0\n",
      "10     1\n",
      "122    2\n",
      "11     0\n",
      "127    2\n",
      "45     2\n",
      "70     2\n",
      "Name: Class, dtype: int64\n"
     ]
    }
   ],
   "source": [
    "print(y_test)"
   ]
  },
  {
   "cell_type": "code",
   "execution_count": 16,
   "metadata": {},
   "outputs": [
    {
     "name": "stdout",
     "output_type": "stream",
     "text": [
      "0.9259259259259259\n"
     ]
    }
   ],
   "source": [
    "from sklearn.metrics import accuracy_score\n",
    "acc=accuracy_score(y_test,pred)\n",
    "print(acc)"
   ]
  },
  {
   "cell_type": "code",
   "execution_count": null,
   "metadata": {},
   "outputs": [],
   "source": []
  }
 ],
 "metadata": {
  "kernelspec": {
   "display_name": "Python 3",
   "language": "python",
   "name": "python3"
  },
  "language_info": {
   "codemirror_mode": {
    "name": "ipython",
    "version": 3
   },
   "file_extension": ".py",
   "mimetype": "text/x-python",
   "name": "python",
   "nbconvert_exporter": "python",
   "pygments_lexer": "ipython3",
   "version": "3.12.4"
  }
 },
 "nbformat": 4,
 "nbformat_minor": 2
}

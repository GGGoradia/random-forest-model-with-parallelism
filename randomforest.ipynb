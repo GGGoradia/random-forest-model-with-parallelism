{
 "cells": [
  {
   "cell_type": "code",
   "execution_count": 46,
   "metadata": {},
   "outputs": [],
   "source": [
    "import numpy as np\n",
    "import pandas as pd\n",
    "from sklearn.preprocessing import OneHotEncoder\n",
    "from sklearn.model_selection import train_test_split\n",
    "from sklearn.preprocessing import LabelEncoder\n",
    "from sklearn.ensemble import RandomForestClassifier\n",
    "from sklearn.metrics import accuracy_score"
   ]
  },
  {
   "cell_type": "code",
   "execution_count": 47,
   "metadata": {},
   "outputs": [
    {
     "name": "stdout",
     "output_type": "stream",
     "text": [
      "[['Vata' 'Kapha' 'Pitta']]\n"
     ]
    }
   ],
   "source": [
    "df=pd.read_csv('vadu-dummy-data.csv',header=1)\n",
    "df.head()\n",
    "unique=np.array([df['Class'].unique()])\n",
    "print(unique)#found out there are three classes\n",
    "df=df.drop(columns='SampleID')\n"
   ]
  },
  {
   "cell_type": "code",
   "execution_count": 48,
   "metadata": {},
   "outputs": [],
   "source": [
    "df=df.replace('NA',np.nan)#replaced with actual nan values \n",
    "#had to do this else the labelencoder would encode NA as a value as well"
   ]
  },
  {
   "cell_type": "code",
   "execution_count": 49,
   "metadata": {},
   "outputs": [
    {
     "name": "stdout",
     "output_type": "stream",
     "text": [
      "     Class  GENDER  F1  F2  F3  F4  F5  F6  F7  F8  ...  F123  F124  F125  \\\n",
      "0        2       1   1   2   0   0   2   1   0   1  ...     1     1     1   \n",
      "1        0       1   2   0   0   1   0   1   0   1  ...     1     1     1   \n",
      "2        2       1   1   2   0   3   2   3   1   1  ...     1     1     1   \n",
      "3        2       1   1   2   0   2   2   1   1   1  ...     0     1     1   \n",
      "4        0       1   2   0   0   0   0   0   0   1  ...     1     1     1   \n",
      "..     ...     ...  ..  ..  ..  ..  ..  ..  ..  ..  ...   ...   ...   ...   \n",
      "126      2       0   1   2   1   3   2   1   0   1  ...     0     1     1   \n",
      "127      2       0   1   2   1   3   1   3   0   1  ...     1     1     1   \n",
      "128      2       0   1   2   2   1   2   0   1   1  ...     1     1     1   \n",
      "129      2       0   1   1   1   3   1   3   0   1  ...     1     1     1   \n",
      "130      1       0   0   1   2   3   1   0   0   1  ...     1     1     0   \n",
      "\n",
      "     F126  F127  F128  F129  F130  F131  F132  \n",
      "0       0     1     1     1     1     1     0  \n",
      "1       0     1     1     0     1     0     0  \n",
      "2       1     0     1     1     0     1     1  \n",
      "3       0     0     1     1     1     0     1  \n",
      "4       1     1     1     0     0     0     0  \n",
      "..    ...   ...   ...   ...   ...   ...   ...  \n",
      "126     1     1     1     1     1     0     1  \n",
      "127     1     0     0     0     0     0     0  \n",
      "128     1     1     1     0     0     0     0  \n",
      "129     0     1     0     1     0     0     1  \n",
      "130     0     1     0     1     1     0     0  \n",
      "\n",
      "[131 rows x 134 columns]\n"
     ]
    }
   ],
   "source": [
    "# labelencoding on all since i am using random forest model\n",
    "labels=LabelEncoder()\n",
    "for i in df.columns:\n",
    "    df[i]=labels.fit_transform(df[i])\n",
    "print(df)"
   ]
  },
  {
   "cell_type": "code",
   "execution_count": 50,
   "metadata": {},
   "outputs": [],
   "source": [
    "#replace na values in each row with its mode\n",
    "for i in df.columns:\n",
    "    df[i]=df[i].fillna(df[i].mode()[0])"
   ]
  },
  {
   "cell_type": "code",
   "execution_count": 51,
   "metadata": {},
   "outputs": [],
   "source": [
    "#train test split\n",
    "X=df.drop(columns='Class')\n",
    "y=df['Class']\n",
    "X_train,X_test,y_train,y_test=train_test_split(X,y,test_size=0.2,random_state=42)"
   ]
  },
  {
   "cell_type": "code",
   "execution_count": 52,
   "metadata": {},
   "outputs": [
    {
     "name": "stdout",
     "output_type": "stream",
     "text": [
      "[['Vata' 'Kapha' 'Pitta']]\n",
      "[2 1 1 0 2 2 0 2 2 1 2 2 1 0 2 0 0 2 1 0 0 1 2 0 2 2 2]\n",
      "for normal model\n",
      "0.08811450004577637\n"
     ]
    }
   ],
   "source": [
    "import time\n",
    "model_normal=RandomForestClassifier(n_estimators=100,random_state=42)\n",
    "\n",
    "#added to check time taken to train the model\n",
    "starttime=time.time()\n",
    "model_normal.fit(X_train,y_train)\n",
    "endtime=time.time()\n",
    "\n",
    "pred=model_normal.predict(X_test)\n",
    "print(unique)\n",
    "print(pred)\n",
    "print('for normal model')\n",
    "print(endtime-starttime)"
   ]
  },
  {
   "cell_type": "code",
   "execution_count": 53,
   "metadata": {},
   "outputs": [
    {
     "name": "stdout",
     "output_type": "stream",
     "text": [
      "0.9259259259259259\n"
     ]
    }
   ],
   "source": [
    "acc=accuracy_score(y_test,pred)\n",
    "print(acc)"
   ]
  },
  {
   "cell_type": "code",
   "execution_count": 54,
   "metadata": {},
   "outputs": [
    {
     "name": "stdout",
     "output_type": "stream",
     "text": [
      "[2 1 1 0 2 2 0 2 2 1 2 2 1 0 2 0 0 2 1 0 0 1 2 0 2 2 2]\n"
     ]
    }
   ],
   "source": [
    "y_pred=model_normal.predict(X_test)\n",
    "print(y_pred)"
   ]
  },
  {
   "cell_type": "code",
   "execution_count": 55,
   "metadata": {},
   "outputs": [
    {
     "name": "stdout",
     "output_type": "stream",
     "text": [
      "[['Vata' 'Kapha' 'Pitta']]\n",
      "[2 1 1 0 2 2 0 2 2 1 2 2 1 0 2 0 0 2 1 0 0 1 2 0 2 2 2]\n",
      "for parallel model\n",
      "0.12318992614746094\n"
     ]
    }
   ],
   "source": [
    "#creating a model which uses parallel execution using all the CPU cores\n",
    "model_para=RandomForestClassifier(n_estimators=100,random_state=42,n_jobs=2)\n",
    "#-1 to use all cores of the cpu\n",
    "\n",
    "#to check the time taken\n",
    "start=time.time()\n",
    "model_para.fit(X_train,y_train)\n",
    "end=time.time()\n",
    "\n",
    "para_pred=model_para.predict(X_test)\n",
    "print(unique)\n",
    "print(para_pred)\n",
    "print(\"for parallel model\")\n",
    "print(end-start)"
   ]
  },
  {
   "cell_type": "code",
   "execution_count": 57,
   "metadata": {},
   "outputs": [
    {
     "data": {
      "text/plain": [
       "[<matplotlib.lines.Line2D at 0x24bbef87830>]"
      ]
     },
     "execution_count": 57,
     "metadata": {},
     "output_type": "execute_result"
    },
    {
     "data": {
      "image/png": "[encoded data removed]",
      "text/plain": [
       "<Figure size 800x600 with 1 Axes>"
      ]
     },
     "metadata": {},
     "output_type": "display_data"
    }
   ],
   "source": [
    "import matplotlib.pyplot as plt\n",
    "plt.figure(figsize=(8,6))\n",
    "plt.scatter(y_test, y_pred, color='skyblue', edgecolor='black', alpha=0.7)\n",
    "plt.plot([y_test.min(), y_test.max()], [y_test.min(), y_test.max()], 'r-') "
   ]
  },
  {
   "cell_type": "code",
   "execution_count": 58,
   "metadata": {},
   "outputs": [
    {
     "data": {
      "text/plain": [
       "<sklearn.metrics._plot.confusion_matrix.ConfusionMatrixDisplay at 0x24bc2aaf3e0>"
      ]
     },
     "execution_count": 58,
     "metadata": {},
     "output_type": "execute_result"
    },
    {
     "data": {
      "image/png": "[encoded data removed]",
      "text/plain": [
       "<Figure size 640x480 with 2 Axes>"
      ]
     },
     "metadata": {},
     "output_type": "display_data"
    }
   ],
   "source": [
    "from sklearn.metrics import confusion_matrix,ConfusionMatrixDisplay\n",
    "cm=confusion_matrix(y_test,y_pred)\n",
    "disp=ConfusionMatrixDisplay(confusion_matrix=cm)\n",
    "disp.plot(cmap='Blues',values_format='d')\n",
    "\n",
    " "
   ]
  },
  {
   "cell_type": "code",
   "execution_count": null,
   "metadata": {},
   "outputs": [],
   "source": []
  }
 ],
 "metadata": {
  "kernelspec": {
   "display_name": "Python 3",
   "language": "python",
   "name": "python3"
  },
  "language_info": {
   "codemirror_mode": {
    "name": "ipython",
    "version": 3
   },
   "file_extension": ".py",
   "mimetype": "text/x-python",
   "name": "python",
   "nbconvert_exporter": "python",
   "pygments_lexer": "ipython3",
   "version": "3.12.4"
  }
 },
 "nbformat": 4,
 "nbformat_minor": 2
}
